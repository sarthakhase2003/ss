{
 "cells": [
  {
   "cell_type": "code",
   "execution_count": 2,
   "id": "3d2a68ed-712c-4ac8-907c-e9329fb97d81",
   "metadata": {},
   "outputs": [
    {
     "name": "stdout",
     "output_type": "stream",
     "text": [
      "f -> 0\n",
      "c -> 100\n",
      "d -> 101\n",
      "a -> 1100\n",
      "b -> 1101\n",
      "e -> 111\n"
     ]
    }
   ],
   "source": [
    "import heapq\n",
    "\n",
    "\n",
    "class Node:\n",
    "    def __init__(self, freq, symbol, left=None, right=None):\n",
    "        self.freq = freq           \n",
    "        self.symbol = symbol      \n",
    "        self.left = left\n",
    "        self.right = right\n",
    "        self.huff = ''           \n",
    "\n",
    "    def __lt__(self, nxt):\n",
    "        return self.freq < nxt.freq\n",
    "\n",
    "    def print_nodes(self, val=''):\n",
    "\n",
    "        new_val = val + str(self.huff)\n",
    "        if self.left:\n",
    "            self.left.print_nodes(new_val)\n",
    "        if self.right:\n",
    "            self.right.print_nodes(new_val)\n",
    "\n",
    "        if not self.left and not self.right:\n",
    "            print(f\"{self.symbol} -> {new_val}\")\n",
    "\n",
    "\n",
    "\n",
    "if __name__ == \"__main__\":\n",
    "    chars = ['a', 'b', 'c', 'd', 'e', 'f']\n",
    "    freq = [5, 9, 12, 13, 16, 45]\n",
    "\n",
    "\n",
    "    nodes = []\n",
    "\n",
    " \n",
    "    for i in range(len(chars)):\n",
    "        heapq.heappush(nodes, Node(freq[i], chars[i]))\n",
    "\n",
    "\n",
    "    while len(nodes) > 1:\n",
    " \n",
    "        left = heapq.heappop(nodes)\n",
    "        right = heapq.heappop(nodes)\n",
    "\n",
    " \n",
    "        left.huff = 0\n",
    "        right.huff = 1\n",
    "\n",
    "\n",
    "        new_node = Node(left.freq + right.freq, left.symbol + right.symbol, left, right)\n",
    "\n",
    "        heapq.heappush(nodes, new_node)\n",
    "\n",
    "\n",
    "    root_node = nodes[0]\n",
    "\n",
    "    root_node.print_nodes()"
   ]
  }
 ],
 "metadata": {
  "kernelspec": {
   "display_name": "Python 3 (ipykernel)",
   "language": "python",
   "name": "python3"
  },
  "language_info": {
   "codemirror_mode": {
    "name": "ipython",
    "version": 3
   },
   "file_extension": ".py",
   "mimetype": "text/x-python",
   "name": "python",
   "nbconvert_exporter": "python",
   "pygments_lexer": "ipython3",
   "version": "3.12.4"
  }
 },
 "nbformat": 4,
 "nbformat_minor": 5
}
