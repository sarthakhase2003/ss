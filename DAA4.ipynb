{
 "cells": [
  {
   "cell_type": "code",
   "execution_count": 1,
   "id": "41c93b19-1551-40af-87a1-8200ec18b74a",
   "metadata": {},
   "outputs": [
    {
     "name": "stdout",
     "output_type": "stream",
     "text": [
      "350\n"
     ]
    }
   ],
   "source": [
    "def solve_knapsack():\n",
    "    val = [50, 100, 150, 200] \n",
    "    wt = [8, 16, 32, 40]  \n",
    "    W = 64  \n",
    "    n = len(val) \n",
    "\n",
    "    def knapsack(W, n):\n",
    "        if n == 0 or W == 0:\n",
    "            return 0 \n",
    "        if wt[n-1] > W:\n",
    "            return knapsack(W, n-1)    \n",
    "        else:\n",
    "            return max(\n",
    "                val[n-1] + knapsack(W - wt[n-1], n-1),knapsack(W, n-1)  \n",
    "            )\n",
    "        \n",
    "    print(knapsack(W, n))\n",
    "\n",
    "solve_knapsack()"
   ]
  }
 ],
 "metadata": {
  "kernelspec": {
   "display_name": "Python 3 (ipykernel)",
   "language": "python",
   "name": "python3"
  },
  "language_info": {
   "codemirror_mode": {
    "name": "ipython",
    "version": 3
   },
   "file_extension": ".py",
   "mimetype": "text/x-python",
   "name": "python",
   "nbconvert_exporter": "python",
   "pygments_lexer": "ipython3",
   "version": "3.12.4"
  }
 },
 "nbformat": 4,
 "nbformat_minor": 5
}
