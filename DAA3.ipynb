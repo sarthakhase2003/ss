{
 "cells": [
  {
   "cell_type": "code",
   "execution_count": 5,
   "id": "062b4478-f435-4e55-b698-859a3f5717b6",
   "metadata": {},
   "outputs": [
    {
     "name": "stdout",
     "output_type": "stream",
     "text": [
      "60\n",
      "160\n",
      "240\n"
     ]
    }
   ],
   "source": [
    "def fractional_knapsack():\n",
    "    weights = [10,20,30]\n",
    "    values = [60,100,120]\n",
    "    capacity = 50\n",
    "    res = 0\n",
    "    \n",
    "    for pair in sorted(zip(weights,values), key = lambda x : x[1]/x[0], reverse = True):\n",
    "        if capacity <= 0:\n",
    "            break\n",
    "        if pair [0] > capacity :\n",
    "            res += int (capacity * (pair[1]/pair[0]))\n",
    "            capacity = 0\n",
    "        elif pair[0] <= capacity:\n",
    "            res += pair[1]\n",
    "            capacity -= pair[0]\n",
    "        print(res)\n",
    "\n",
    "if __name__ == \"__main__\":\n",
    "    fractional_knapsack()\n",
    "\n",
    "        "
   ]
  }
 ],
 "metadata": {
  "kernelspec": {
   "display_name": "Python 3 (ipykernel)",
   "language": "python",
   "name": "python3"
  },
  "language_info": {
   "codemirror_mode": {
    "name": "ipython",
    "version": 3
   },
   "file_extension": ".py",
   "mimetype": "text/x-python",
   "name": "python",
   "nbconvert_exporter": "python",
   "pygments_lexer": "ipython3",
   "version": "3.12.4"
  }
 },
 "nbformat": 4,
 "nbformat_minor": 5
}
