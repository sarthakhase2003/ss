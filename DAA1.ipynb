{
 "cells": [
  {
   "cell_type": "code",
   "execution_count": 6,
   "id": "0e385b47-d3d9-4965-9523-910f2964a51d",
   "metadata": {},
   "outputs": [
    {
     "name": "stdout",
     "output_type": "stream",
     "text": [
      "Recursive : \n",
      "0\n",
      "1\n",
      "1\n",
      "2\n",
      "3\n",
      "5\n",
      "8\n",
      "13\n",
      "21\n",
      "34\n",
      "Non-Recursive : \n",
      "0\n",
      "1\n",
      "1\n",
      "2\n",
      "3\n",
      "5\n",
      "8\n",
      "13\n",
      "21\n",
      "34\n"
     ]
    }
   ],
   "source": [
    "def recursive_fibonacci(n):\n",
    "    if n <= 1:\n",
    "        return n\n",
    "    else :\n",
    "        return recursive_fibonacci(n-1)+ recursive_fibonacci(n-2)\n",
    "\n",
    "def non_rec_fibo(n):\n",
    "    first = 0\n",
    "    second = 1\n",
    "    print(first)\n",
    "    print(second)\n",
    "    while n-2 > 0:\n",
    "        third = first + second\n",
    "        first = second\n",
    "        second = third\n",
    "        print(third)\n",
    "        n -= 1\n",
    "\n",
    "if __name__ == \"__main__\" :\n",
    "    print(\"Recursive : \" )\n",
    "    n = 10\n",
    "    for i in range(n):\n",
    "        print(recursive_fibonacci(i))\n",
    "        \n",
    "print(\"Non-Recursive : \")\n",
    "non_rec_fibo(n)"
   ]
  }
 ],
 "metadata": {
  "kernelspec": {
   "display_name": "Python 3 (ipykernel)",
   "language": "python",
   "name": "python3"
  },
  "language_info": {
   "codemirror_mode": {
    "name": "ipython",
    "version": 3
   },
   "file_extension": ".py",
   "mimetype": "text/x-python",
   "name": "python",
   "nbconvert_exporter": "python",
   "pygments_lexer": "ipython3",
   "version": "3.12.4"
  }
 },
 "nbformat": 4,
 "nbformat_minor": 5
}
